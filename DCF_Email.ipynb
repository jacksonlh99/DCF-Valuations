{
 "cells": [
  {
   "cell_type": "code",
   "execution_count": 1,
   "id": "0a628db3-dc7e-4ec9-b113-71ce6e8ce33a",
   "metadata": {},
   "outputs": [
    {
     "name": "stdout",
     "output_type": "stream",
     "text": [
      "Email sent!\n"
     ]
    }
   ],
   "source": [
    "##Master Code##\n",
    "\n",
    "import numpy as np\n",
    "import pandas as pd\n",
    "import random as rand\n",
    "import smtplib\n",
    "import datetime as dt\n",
    "import time\n",
    "\n",
    "\n",
    "sp500 = pd.read_csv('SP500.csv')\n",
    "sp500.drop(columns='Unnamed: 0',inplace=True)\n",
    "\n",
    "company = sp500.sample()\n",
    "\n",
    "gmail_user = 'jlhfinancials@gmail.com'\n",
    "gmail_password = 'UnHackable'\n",
    "\n",
    "sent_from = gmail_user\n",
    "to = ['jacksonlh99@gmail.com']\n",
    "subject = f'Daily Stock Evaluation ({company.iloc[0][0]})'\n",
    "body = f'''\n",
    "Today's stock is {company.iloc[0][1]} ({company.iloc[0][0]}).\n",
    "\n",
    "{company.iloc[0][1]} is currently {company.iloc[0][8]} by {round(((company.iloc[0][6]-company.iloc[0][7])/company.iloc[0][6])*100,1)}% at a market cap as {round(company.iloc[0][6],0)}.\n",
    "\n",
    "Our recommendation is to {company.iloc[0][9]} because our evaluation of the company using the Discounted Cash Flow model is {round(company.iloc[0][7],0)}\n",
    "\n",
    "Happy trading!\n",
    "\n",
    "'''\n",
    "\n",
    "email_text = \"\"\"\\\n",
    "From: %s\n",
    "To: %s\n",
    "Subject: %s\n",
    "\n",
    "%s\n",
    "\"\"\" % (sent_from, \", \".join(to), subject, body)\n",
    "\n",
    "try:\n",
    "    server = smtplib.SMTP_SSL('smtp.gmail.com', 465)\n",
    "    server.ehlo()\n",
    "    server.login(gmail_user, gmail_password)\n",
    "    server.sendmail(sent_from, to, email_text)\n",
    "    server.close()\n",
    "\n",
    "    print('Email sent!')\n",
    "except:\n",
    "    print('Something went wrong...')\n"
   ]
  },
  {
   "cell_type": "code",
   "execution_count": null,
   "id": "c18d0779-ba5a-4fb1-989d-ed906b205c15",
   "metadata": {},
   "outputs": [],
   "source": []
  },
  {
   "cell_type": "code",
   "execution_count": 33,
   "id": "62f9673b-cba0-4dc1-a7db-2b38bb7c7c3a",
   "metadata": {},
   "outputs": [],
   "source": []
  },
  {
   "cell_type": "code",
   "execution_count": 46,
   "id": "215d455c-ac9c-426d-be57-f774c335ca28",
   "metadata": {},
   "outputs": [],
   "source": []
  },
  {
   "cell_type": "code",
   "execution_count": null,
   "id": "0c69023b-47b6-483d-9e70-9fd903da26d9",
   "metadata": {},
   "outputs": [],
   "source": []
  }
 ],
 "metadata": {
  "kernelspec": {
   "display_name": "Python 3",
   "language": "python",
   "name": "python3"
  },
  "language_info": {
   "codemirror_mode": {
    "name": "ipython",
    "version": 3
   },
   "file_extension": ".py",
   "mimetype": "text/x-python",
   "name": "python",
   "nbconvert_exporter": "python",
   "pygments_lexer": "ipython3",
   "version": "3.8.8"
  }
 },
 "nbformat": 4,
 "nbformat_minor": 5
}
